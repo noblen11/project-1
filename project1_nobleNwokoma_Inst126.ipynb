{
 "cells": [
  {
   "cell_type": "code",
   "execution_count": 36,
   "metadata": {},
   "outputs": [
    {
     "name": "stdout",
     "output_type": "stream",
     "text": [
      "Enter a number to choose a math operation (1. addiition, 2. subtraction, 3. multiplication, 4. division): a\n"
     ]
    },
    {
     "ename": "ValueError",
     "evalue": "invalid literal for int() with base 10: 'a'",
     "output_type": "error",
     "traceback": [
      "\u001b[1;31m---------------------------------------------------------------------------\u001b[0m",
      "\u001b[1;31mValueError\u001b[0m                                Traceback (most recent call last)",
      "\u001b[1;32m<ipython-input-36-bf569877e435>\u001b[0m in \u001b[0;36m<module>\u001b[1;34m\u001b[0m\n\u001b[1;32m----> 1\u001b[1;33m \u001b[0muser_input\u001b[0m \u001b[1;33m=\u001b[0m \u001b[0mint\u001b[0m\u001b[1;33m(\u001b[0m\u001b[0minput\u001b[0m\u001b[1;33m(\u001b[0m\u001b[1;34m\"Enter a number to choose a math operation (1. addiition, 2. subtraction, 3. multiplication, 4. division): \"\u001b[0m\u001b[1;33m)\u001b[0m\u001b[1;33m)\u001b[0m\u001b[1;33m\u001b[0m\u001b[1;33m\u001b[0m\u001b[0m\n\u001b[0m\u001b[0;32m      2\u001b[0m \u001b[1;33m\u001b[0m\u001b[0m\n\u001b[0;32m      3\u001b[0m \u001b[1;32mif\u001b[0m \u001b[0muser_input\u001b[0m \u001b[1;33m==\u001b[0m \u001b[1;36m1\u001b[0m\u001b[1;33m:\u001b[0m\u001b[1;33m\u001b[0m\u001b[1;33m\u001b[0m\u001b[0m\n\u001b[0;32m      4\u001b[0m     \u001b[0mnum1\u001b[0m \u001b[1;33m=\u001b[0m \u001b[0mint\u001b[0m\u001b[1;33m(\u001b[0m\u001b[0minput\u001b[0m\u001b[1;33m(\u001b[0m\u001b[1;34m\"enter your first number: \"\u001b[0m\u001b[1;33m)\u001b[0m\u001b[1;33m)\u001b[0m\u001b[1;33m\u001b[0m\u001b[1;33m\u001b[0m\u001b[0m\n\u001b[0;32m      5\u001b[0m     \u001b[0mnum2\u001b[0m \u001b[1;33m=\u001b[0m \u001b[0mint\u001b[0m\u001b[1;33m(\u001b[0m\u001b[0minput\u001b[0m\u001b[1;33m(\u001b[0m\u001b[1;34m\"Enter a second number: \"\u001b[0m\u001b[1;33m)\u001b[0m\u001b[1;33m)\u001b[0m\u001b[1;33m\u001b[0m\u001b[1;33m\u001b[0m\u001b[0m\n",
      "\u001b[1;31mValueError\u001b[0m: invalid literal for int() with base 10: 'a'"
     ]
    }
   ],
   "source": [
    "user_input = int(input(\"Enter a number to choose a math operation (1. addiition, 2. subtraction, 3. multiplication, 4. division): \"))\n",
    "\n",
    "if user_input == 1:\n",
    "    num1 = int(input(\"enter your first number: \"))\n",
    "    num2 = int(input(\"Enter a second number: \")) \n",
    "    Addition = num1 + num2\n",
    "    print(\"The answer is\", Addition)\n",
    "    \n",
    "elif user_input == 2:\n",
    "    num1 = int(input(\"enter your first number: \"))\n",
    "    num2 = int(input(\"Enter a second number: \"))\n",
    "    subtraction = num1 - num2\n",
    "    print(\"The answer is\", subtraction)\n",
    "    \n",
    "elif user_input == 3:\n",
    "    num1 = int(input(\"enter your first number: \"))\n",
    "    num2 = int(input(\"Enter a second number: \"))\n",
    "    multiplication = num1 * num2\n",
    "    print(\"The answer is\", multiplication)\n",
    "    \n",
    "elif user_input == 4:\n",
    "    num1 = int(input(\"enter your first number: \"))\n",
    "    num2 = int(input(\"Enter a second number: \"))\n",
    "    division = num1 / num2\n",
    "    print(\"The answer is\", division)\n",
    "\n",
    "while (user_input < 1) or (user_input > 4):\n",
    "    print(\"Invalid input please enter a number between 1-4\")\n",
    "    user_input = int(input(\"Enter a number to choose a a math operation (1. addiition, 2. subtraction, 3. multiplication, 4. division): \"))\n",
    "    \n",
    "    \n",
    "    "
   ]
  },
  {
   "cell_type": "code",
   "execution_count": null,
   "metadata": {},
   "outputs": [],
   "source": []
  },
  {
   "cell_type": "code",
   "execution_count": null,
   "metadata": {},
   "outputs": [],
   "source": []
  },
  {
   "cell_type": "code",
   "execution_count": null,
   "metadata": {},
   "outputs": [],
   "source": []
  },
  {
   "cell_type": "code",
   "execution_count": null,
   "metadata": {},
   "outputs": [],
   "source": []
  },
  {
   "cell_type": "code",
   "execution_count": null,
   "metadata": {},
   "outputs": [],
   "source": []
  },
  {
   "cell_type": "code",
   "execution_count": null,
   "metadata": {},
   "outputs": [],
   "source": []
  }
 ],
 "metadata": {
  "kernelspec": {
   "display_name": "Python 3",
   "language": "python",
   "name": "python3"
  }
 },
 "nbformat": 4,
 "nbformat_minor": 4
}
